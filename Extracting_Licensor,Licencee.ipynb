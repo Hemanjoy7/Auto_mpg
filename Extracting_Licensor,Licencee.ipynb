{
 "cells": [
  {
   "cell_type": "code",
   "execution_count": 1,
   "metadata": {
    "colab": {
     "base_uri": "https://localhost:8080/"
    },
    "id": "m_rlvBmT8tlf",
    "outputId": "75296907-1aba-436b-e312-5cfb0c0ff670"
   },
   "outputs": [
    {
     "name": "stdout",
     "output_type": "stream",
     "text": [
      "Using pip 23.1.2 from /usr/local/lib/python3.10/dist-packages/pip (python 3.10)\n",
      "Collecting llama-cpp-python==0.1.78\n",
      "  Downloading llama_cpp_python-0.1.78.tar.gz (1.7 MB)\n",
      "\u001b[2K     \u001b[90m━━━━━━━━━━━━━━━━━━━━━━━━━━━━━━━━━━━━━━━━\u001b[0m \u001b[32m1.7/1.7 MB\u001b[0m \u001b[31m23.6 MB/s\u001b[0m eta \u001b[36m0:00:00\u001b[0m\n",
      "\u001b[?25h  Running command pip subprocess to install build dependencies\n",
      "  Using pip 23.1.2 from /usr/local/lib/python3.10/dist-packages/pip (python 3.10)\n",
      "  Collecting setuptools>=42\n",
      "    Downloading setuptools-69.0.2-py3-none-any.whl (819 kB)\n",
      "       ━━━━━━━━━━━━━━━━━━━━━━━━━━━━━━━━━━━━━━━━ 819.5/819.5 kB 11.0 MB/s eta 0:00:00\n",
      "  Collecting scikit-build>=0.13\n",
      "    Downloading scikit_build-0.17.6-py3-none-any.whl (84 kB)\n",
      "       ━━━━━━━━━━━━━━━━━━━━━━━━━━━━━━━━━━━━━━━━ 84.3/84.3 kB 10.4 MB/s eta 0:00:00\n",
      "  Collecting cmake>=3.18\n",
      "    Downloading cmake-3.27.9-py2.py3-none-manylinux2014_x86_64.manylinux_2_17_x86_64.whl (26.1 MB)\n",
      "       ━━━━━━━━━━━━━━━━━━━━━━━━━━━━━━━━━━━━━━━━ 26.1/26.1 MB 53.2 MB/s eta 0:00:00\n",
      "  Collecting ninja\n",
      "    Downloading ninja-1.11.1.1-py2.py3-none-manylinux1_x86_64.manylinux_2_5_x86_64.whl (307 kB)\n",
      "       ━━━━━━━━━━━━━━━━━━━━━━━━━━━━━━━━━━━━━━━━ 307.2/307.2 kB 32.5 MB/s eta 0:00:00\n",
      "  Collecting distro (from scikit-build>=0.13)\n",
      "    Downloading distro-1.8.0-py3-none-any.whl (20 kB)\n",
      "  Collecting packaging (from scikit-build>=0.13)\n",
      "    Downloading packaging-23.2-py3-none-any.whl (53 kB)\n",
      "       ━━━━━━━━━━━━━━━━━━━━━━━━━━━━━━━━━━━━━━━━ 53.0/53.0 kB 6.7 MB/s eta 0:00:00\n",
      "  Collecting tomli (from scikit-build>=0.13)\n",
      "    Downloading tomli-2.0.1-py3-none-any.whl (12 kB)\n",
      "  Collecting wheel>=0.32.0 (from scikit-build>=0.13)\n",
      "    Downloading wheel-0.42.0-py3-none-any.whl (65 kB)\n",
      "       ━━━━━━━━━━━━━━━━━━━━━━━━━━━━━━━━━━━━━━━━ 65.4/65.4 kB 8.4 MB/s eta 0:00:00\n",
      "  Installing collected packages: ninja, cmake, wheel, tomli, setuptools, packaging, distro, scikit-build\n",
      "    Creating /tmp/pip-build-env-x4elggkm/overlay/local/bin\n",
      "    changing mode of /tmp/pip-build-env-x4elggkm/overlay/local/bin/ninja to 755\n",
      "    changing mode of /tmp/pip-build-env-x4elggkm/overlay/local/bin/cmake to 755\n",
      "    changing mode of /tmp/pip-build-env-x4elggkm/overlay/local/bin/cpack to 755\n",
      "    changing mode of /tmp/pip-build-env-x4elggkm/overlay/local/bin/ctest to 755\n",
      "    changing mode of /tmp/pip-build-env-x4elggkm/overlay/local/bin/wheel to 755\n",
      "    changing mode of /tmp/pip-build-env-x4elggkm/overlay/local/bin/distro to 755\n",
      "  ERROR: pip's dependency resolver does not currently take into account all the packages that are installed. This behaviour is the source of the following dependency conflicts.\n",
      "  ipython 7.34.0 requires jedi>=0.16, which is not installed.\n",
      "  lida 0.0.10 requires fastapi, which is not installed.\n",
      "  lida 0.0.10 requires kaleido, which is not installed.\n",
      "  lida 0.0.10 requires python-multipart, which is not installed.\n",
      "  lida 0.0.10 requires uvicorn, which is not installed.\n",
      "  Successfully installed cmake-3.27.9 distro-1.8.0 ninja-1.11.1.1 packaging-23.2 scikit-build-0.17.6 setuptools-69.0.2 tomli-2.0.1 wheel-0.42.0\n",
      "  Installing build dependencies ... \u001b[?25l\u001b[?25hdone\n",
      "  Running command Getting requirements to build wheel\n",
      "  running egg_info\n",
      "  writing llama_cpp_python.egg-info/PKG-INFO\n",
      "  writing dependency_links to llama_cpp_python.egg-info/dependency_links.txt\n",
      "  writing requirements to llama_cpp_python.egg-info/requires.txt\n",
      "  writing top-level names to llama_cpp_python.egg-info/top_level.txt\n",
      "  reading manifest file 'llama_cpp_python.egg-info/SOURCES.txt'\n",
      "  adding license file 'LICENSE.md'\n",
      "  writing manifest file 'llama_cpp_python.egg-info/SOURCES.txt'\n",
      "  Getting requirements to build wheel ... \u001b[?25l\u001b[?25hdone\n",
      "  Running command Preparing metadata (pyproject.toml)\n",
      "  running dist_info\n",
      "  creating /tmp/pip-modern-metadata-nsp7bsml/llama_cpp_python.egg-info\n",
      "  writing /tmp/pip-modern-metadata-nsp7bsml/llama_cpp_python.egg-info/PKG-INFO\n",
      "  writing dependency_links to /tmp/pip-modern-metadata-nsp7bsml/llama_cpp_python.egg-info/dependency_links.txt\n",
      "  writing requirements to /tmp/pip-modern-metadata-nsp7bsml/llama_cpp_python.egg-info/requires.txt\n",
      "  writing top-level names to /tmp/pip-modern-metadata-nsp7bsml/llama_cpp_python.egg-info/top_level.txt\n",
      "  writing manifest file '/tmp/pip-modern-metadata-nsp7bsml/llama_cpp_python.egg-info/SOURCES.txt'\n",
      "  reading manifest file '/tmp/pip-modern-metadata-nsp7bsml/llama_cpp_python.egg-info/SOURCES.txt'\n",
      "  adding license file 'LICENSE.md'\n",
      "  writing manifest file '/tmp/pip-modern-metadata-nsp7bsml/llama_cpp_python.egg-info/SOURCES.txt'\n",
      "  creating '/tmp/pip-modern-metadata-nsp7bsml/llama_cpp_python-0.1.78.dist-info'\n",
      "  Preparing metadata (pyproject.toml) ... \u001b[?25l\u001b[?25hdone\n",
      "Collecting numpy==1.23.4\n",
      "  Downloading numpy-1.23.4-cp310-cp310-manylinux_2_17_x86_64.manylinux2014_x86_64.whl (17.1 MB)\n",
      "\u001b[2K     \u001b[90m━━━━━━━━━━━━━━━━━━━━━━━━━━━━━━━━━━━━━━━━\u001b[0m \u001b[32m17.1/17.1 MB\u001b[0m \u001b[31m298.4 MB/s\u001b[0m eta \u001b[36m0:00:00\u001b[0m\n",
      "\u001b[?25hCollecting typing-extensions>=4.5.0 (from llama-cpp-python==0.1.78)\n",
      "  Downloading typing_extensions-4.9.0-py3-none-any.whl (32 kB)\n",
      "Collecting diskcache>=5.6.1 (from llama-cpp-python==0.1.78)\n",
      "  Downloading diskcache-5.6.3-py3-none-any.whl (45 kB)\n",
      "\u001b[2K     \u001b[90m━━━━━━━━━━━━━━━━━━━━━━━━━━━━━━━━━━━━━━━━\u001b[0m \u001b[32m45.5/45.5 kB\u001b[0m \u001b[31m221.4 MB/s\u001b[0m eta \u001b[36m0:00:00\u001b[0m\n",
      "\u001b[?25hBuilding wheels for collected packages: llama-cpp-python\n",
      "  Running command Building wheel for llama-cpp-python (pyproject.toml)\n",
      "\n",
      "\n",
      "  --------------------------------------------------------------------------------\n",
      "  -- Trying 'Ninja' generator\n",
      "  --------------------------------\n",
      "  ---------------------------\n",
      "  ----------------------\n",
      "  -----------------\n",
      "  ------------\n",
      "  -------\n",
      "  --\n",
      "  CMake Deprecation Warning at CMakeLists.txt:1 (cmake_minimum_required):\n",
      "    Compatibility with CMake < 3.5 will be removed from a future version of\n",
      "    CMake.\n",
      "\n",
      "    Update the VERSION argument <min> value or use a ...<max> suffix to tell\n",
      "    CMake that the project does not need compatibility with older versions.\n",
      "\n",
      "  Not searching for unused variables given on the command line.\n",
      "\n",
      "  -- The C compiler identification is GNU 11.4.0\n",
      "  -- Detecting C compiler ABI info\n",
      "  -- Detecting C compiler ABI info - done\n",
      "  -- Check for working C compiler: /usr/bin/cc - skipped\n",
      "  -- Detecting C compile features\n",
      "  -- Detecting C compile features - done\n",
      "  -- The CXX compiler identification is GNU 11.4.0\n",
      "  -- Detecting CXX compiler ABI info\n",
      "  -- Detecting CXX compiler ABI info - done\n",
      "  -- Check for working CXX compiler: /usr/bin/c++ - skipped\n",
      "  -- Detecting CXX compile features\n",
      "  -- Detecting CXX compile features - done\n",
      "  -- Configuring done (0.8s)\n",
      "  -- Generating done (0.0s)\n",
      "  -- Build files have been written to: /tmp/pip-install-sk41gs0m/llama-cpp-python_8a34d3eb75c44d09972ce2bf158c551c/_cmake_test_compile/build\n",
      "  --\n",
      "  -------\n",
      "  ------------\n",
      "  -----------------\n",
      "  ----------------------\n",
      "  ---------------------------\n",
      "  --------------------------------\n",
      "  -- Trying 'Ninja' generator - success\n",
      "  --------------------------------------------------------------------------------\n",
      "\n",
      "  Configuring Project\n",
      "    Working directory:\n",
      "      /tmp/pip-install-sk41gs0m/llama-cpp-python_8a34d3eb75c44d09972ce2bf158c551c/_skbuild/linux-x86_64-3.10/cmake-build\n",
      "    Command:\n",
      "      /tmp/pip-build-env-x4elggkm/overlay/local/lib/python3.10/dist-packages/cmake/data/bin/cmake /tmp/pip-install-sk41gs0m/llama-cpp-python_8a34d3eb75c44d09972ce2bf158c551c -G Ninja -DCMAKE_MAKE_PROGRAM:FILEPATH=/tmp/pip-build-env-x4elggkm/overlay/local/lib/python3.10/dist-packages/ninja/data/bin/ninja --no-warn-unused-cli -DCMAKE_INSTALL_PREFIX:PATH=/tmp/pip-install-sk41gs0m/llama-cpp-python_8a34d3eb75c44d09972ce2bf158c551c/_skbuild/linux-x86_64-3.10/cmake-install -DPYTHON_VERSION_STRING:STRING=3.10.12 -DSKBUILD:INTERNAL=TRUE -DCMAKE_MODULE_PATH:PATH=/tmp/pip-build-env-x4elggkm/overlay/local/lib/python3.10/dist-packages/skbuild/resources/cmake -DPYTHON_EXECUTABLE:PATH=/usr/bin/python3 -DPYTHON_INCLUDE_DIR:PATH=/usr/include/python3.10 -DPYTHON_LIBRARY:PATH=/usr/lib/x86_64-linux-gnu/libpython3.10.so -DPython_EXECUTABLE:PATH=/usr/bin/python3 -DPython_ROOT_DIR:PATH=/usr -DPython_FIND_REGISTRY:STRING=NEVER -DPython_INCLUDE_DIR:PATH=/usr/include/python3.10 -DPython3_EXECUTABLE:PATH=/usr/bin/python3 -DPython3_ROOT_DIR:PATH=/usr -DPython3_FIND_REGISTRY:STRING=NEVER -DPython3_INCLUDE_DIR:PATH=/usr/include/python3.10 -DCMAKE_MAKE_PROGRAM:FILEPATH=/tmp/pip-build-env-x4elggkm/overlay/local/lib/python3.10/dist-packages/ninja/data/bin/ninja -DLLAMA_CUBLAS=on -DCMAKE_BUILD_TYPE:STRING=Release -DLLAMA_CUBLAS=on\n",
      "\n",
      "  Not searching for unused variables given on the command line.\n",
      "  -- The C compiler identification is GNU 11.4.0\n",
      "  -- The CXX compiler identification is GNU 11.4.0\n",
      "  -- Detecting C compiler ABI info\n",
      "  -- Detecting C compiler ABI info - done\n",
      "  -- Check for working C compiler: /usr/bin/cc - skipped\n",
      "  -- Detecting C compile features\n",
      "  -- Detecting C compile features - done\n",
      "  -- Detecting CXX compiler ABI info\n",
      "  -- Detecting CXX compiler ABI info - done\n",
      "  -- Check for working CXX compiler: /usr/bin/c++ - skipped\n",
      "  -- Detecting CXX compile features\n",
      "  -- Detecting CXX compile features - done\n",
      "  -- Found Git: /usr/bin/git (found version \"2.34.1\")\n",
      "  fatal: not a git repository (or any of the parent directories): .git\n",
      "  fatal: not a git repository (or any of the parent directories): .git\n",
      "  CMake Warning at vendor/llama.cpp/CMakeLists.txt:117 (message):\n",
      "    Git repository not found; to enable automatic generation of build info,\n",
      "    make sure Git is installed and the project is a Git repository.\n",
      "\n",
      "\n",
      "  -- Performing Test CMAKE_HAVE_LIBC_PTHREAD\n",
      "  -- Performing Test CMAKE_HAVE_LIBC_PTHREAD - Success\n",
      "  -- Found Threads: TRUE\n",
      "  -- Found CUDAToolkit: /usr/local/cuda/include (found version \"11.8.89\")\n",
      "  -- cuBLAS found\n",
      "  -- The CUDA compiler identification is NVIDIA 11.8.89\n",
      "  -- Detecting CUDA compiler ABI info\n",
      "  -- Detecting CUDA compiler ABI info - done\n",
      "  -- Check for working CUDA compiler: /usr/local/cuda/bin/nvcc - skipped\n",
      "  -- Detecting CUDA compile features\n",
      "  -- Detecting CUDA compile features - done\n",
      "  -- Using CUDA architectures: 52;61;70\n",
      "  -- CMAKE_SYSTEM_PROCESSOR: x86_64\n",
      "  -- x86 detected\n",
      "  -- Configuring done (3.7s)\n",
      "  -- Generating done (0.0s)\n",
      "  -- Build files have been written to: /tmp/pip-install-sk41gs0m/llama-cpp-python_8a34d3eb75c44d09972ce2bf158c551c/_skbuild/linux-x86_64-3.10/cmake-build\n",
      "  [1/9] Building C object vendor/llama.cpp/CMakeFiles/ggml.dir/ggml-alloc.c.o\n",
      "  [2/9] Building C object vendor/llama.cpp/CMakeFiles/ggml.dir/k_quants.c.o\n",
      "  [3/9] Building C object vendor/llama.cpp/CMakeFiles/ggml.dir/ggml.c.o\n",
      "  [4/9] Building CXX object vendor/llama.cpp/CMakeFiles/llama.dir/llama.cpp.o\n",
      "  [5/9] Building CUDA object vendor/llama.cpp/CMakeFiles/ggml.dir/ggml-cuda.cu.o\n",
      "  [6/9] Linking CUDA shared library vendor/llama.cpp/libggml_shared.so\n",
      "  [7/9] Linking CXX shared library vendor/llama.cpp/libllama.so\n",
      "  [8/9] Linking CUDA static library vendor/llama.cpp/libggml_static.a\n",
      "  [8/9] Install the project...\n",
      "  -- Install configuration: \"Release\"\n",
      "  -- Installing: /tmp/pip-install-sk41gs0m/llama-cpp-python_8a34d3eb75c44d09972ce2bf158c551c/_skbuild/linux-x86_64-3.10/cmake-install/lib/libggml_shared.so\n",
      "  -- Installing: /tmp/pip-install-sk41gs0m/llama-cpp-python_8a34d3eb75c44d09972ce2bf158c551c/_skbuild/linux-x86_64-3.10/cmake-install/lib/libllama.so\n",
      "  -- Set runtime path of \"/tmp/pip-install-sk41gs0m/llama-cpp-python_8a34d3eb75c44d09972ce2bf158c551c/_skbuild/linux-x86_64-3.10/cmake-install/lib/libllama.so\" to \"\"\n",
      "  -- Installing: /tmp/pip-install-sk41gs0m/llama-cpp-python_8a34d3eb75c44d09972ce2bf158c551c/_skbuild/linux-x86_64-3.10/cmake-install/bin/convert.py\n",
      "  -- Installing: /tmp/pip-install-sk41gs0m/llama-cpp-python_8a34d3eb75c44d09972ce2bf158c551c/_skbuild/linux-x86_64-3.10/cmake-install/bin/convert-lora-to-ggml.py\n",
      "  -- Installing: /tmp/pip-install-sk41gs0m/llama-cpp-python_8a34d3eb75c44d09972ce2bf158c551c/_skbuild/linux-x86_64-3.10/cmake-install/llama_cpp/libllama.so\n",
      "  -- Set runtime path of \"/tmp/pip-install-sk41gs0m/llama-cpp-python_8a34d3eb75c44d09972ce2bf158c551c/_skbuild/linux-x86_64-3.10/cmake-install/llama_cpp/libllama.so\" to \"\"\n",
      "\n",
      "  copying llama_cpp/llama_grammar.py -> _skbuild/linux-x86_64-3.10/cmake-install/llama_cpp/llama_grammar.py\n",
      "  copying llama_cpp/__init__.py -> _skbuild/linux-x86_64-3.10/cmake-install/llama_cpp/__init__.py\n",
      "  copying llama_cpp/llama_types.py -> _skbuild/linux-x86_64-3.10/cmake-install/llama_cpp/llama_types.py\n",
      "  copying llama_cpp/utils.py -> _skbuild/linux-x86_64-3.10/cmake-install/llama_cpp/utils.py\n",
      "  copying llama_cpp/llama.py -> _skbuild/linux-x86_64-3.10/cmake-install/llama_cpp/llama.py\n",
      "  copying llama_cpp/llama_cpp.py -> _skbuild/linux-x86_64-3.10/cmake-install/llama_cpp/llama_cpp.py\n",
      "  creating directory _skbuild/linux-x86_64-3.10/cmake-install/llama_cpp/server\n",
      "  copying llama_cpp/server/__main__.py -> _skbuild/linux-x86_64-3.10/cmake-install/llama_cpp/server/__main__.py\n",
      "  copying llama_cpp/server/app.py -> _skbuild/linux-x86_64-3.10/cmake-install/llama_cpp/server/app.py\n",
      "  copying llama_cpp/server/__init__.py -> _skbuild/linux-x86_64-3.10/cmake-install/llama_cpp/server/__init__.py\n",
      "  copying /tmp/pip-install-sk41gs0m/llama-cpp-python_8a34d3eb75c44d09972ce2bf158c551c/llama_cpp/py.typed -> _skbuild/linux-x86_64-3.10/cmake-install/llama_cpp/py.typed\n",
      "\n",
      "  running bdist_wheel\n",
      "  running build\n",
      "  running build_py\n",
      "  creating _skbuild/linux-x86_64-3.10/setuptools/lib.linux-x86_64-cpython-310\n",
      "  creating _skbuild/linux-x86_64-3.10/setuptools/lib.linux-x86_64-cpython-310/llama_cpp\n",
      "  copying _skbuild/linux-x86_64-3.10/cmake-install/llama_cpp/llama_grammar.py -> _skbuild/linux-x86_64-3.10/setuptools/lib.linux-x86_64-cpython-310/llama_cpp\n",
      "  copying _skbuild/linux-x86_64-3.10/cmake-install/llama_cpp/__init__.py -> _skbuild/linux-x86_64-3.10/setuptools/lib.linux-x86_64-cpython-310/llama_cpp\n",
      "  copying _skbuild/linux-x86_64-3.10/cmake-install/llama_cpp/llama_types.py -> _skbuild/linux-x86_64-3.10/setuptools/lib.linux-x86_64-cpython-310/llama_cpp\n",
      "  copying _skbuild/linux-x86_64-3.10/cmake-install/llama_cpp/utils.py -> _skbuild/linux-x86_64-3.10/setuptools/lib.linux-x86_64-cpython-310/llama_cpp\n",
      "  copying _skbuild/linux-x86_64-3.10/cmake-install/llama_cpp/llama.py -> _skbuild/linux-x86_64-3.10/setuptools/lib.linux-x86_64-cpython-310/llama_cpp\n",
      "  copying _skbuild/linux-x86_64-3.10/cmake-install/llama_cpp/llama_cpp.py -> _skbuild/linux-x86_64-3.10/setuptools/lib.linux-x86_64-cpython-310/llama_cpp\n",
      "  creating _skbuild/linux-x86_64-3.10/setuptools/lib.linux-x86_64-cpython-310/llama_cpp/server\n",
      "  copying _skbuild/linux-x86_64-3.10/cmake-install/llama_cpp/server/__main__.py -> _skbuild/linux-x86_64-3.10/setuptools/lib.linux-x86_64-cpython-310/llama_cpp/server\n",
      "  copying _skbuild/linux-x86_64-3.10/cmake-install/llama_cpp/server/app.py -> _skbuild/linux-x86_64-3.10/setuptools/lib.linux-x86_64-cpython-310/llama_cpp/server\n",
      "  copying _skbuild/linux-x86_64-3.10/cmake-install/llama_cpp/server/__init__.py -> _skbuild/linux-x86_64-3.10/setuptools/lib.linux-x86_64-cpython-310/llama_cpp/server\n",
      "  copying _skbuild/linux-x86_64-3.10/cmake-install/llama_cpp/py.typed -> _skbuild/linux-x86_64-3.10/setuptools/lib.linux-x86_64-cpython-310/llama_cpp\n",
      "  copying _skbuild/linux-x86_64-3.10/cmake-install/llama_cpp/libllama.so -> _skbuild/linux-x86_64-3.10/setuptools/lib.linux-x86_64-cpython-310/llama_cpp\n",
      "  copying _skbuild/linux-x86_64-3.10/cmake-install/llama_cpp/llama_grammar.py -> _skbuild/linux-x86_64-3.10/setuptools/lib.linux-x86_64-cpython-310/llama_cpp\n",
      "  copying _skbuild/linux-x86_64-3.10/cmake-install/llama_cpp/__init__.py -> _skbuild/linux-x86_64-3.10/setuptools/lib.linux-x86_64-cpython-310/llama_cpp\n",
      "  copying _skbuild/linux-x86_64-3.10/cmake-install/llama_cpp/llama_types.py -> _skbuild/linux-x86_64-3.10/setuptools/lib.linux-x86_64-cpython-310/llama_cpp\n",
      "  copying _skbuild/linux-x86_64-3.10/cmake-install/llama_cpp/utils.py -> _skbuild/linux-x86_64-3.10/setuptools/lib.linux-x86_64-cpython-310/llama_cpp\n",
      "  copying _skbuild/linux-x86_64-3.10/cmake-install/llama_cpp/llama.py -> _skbuild/linux-x86_64-3.10/setuptools/lib.linux-x86_64-cpython-310/llama_cpp\n",
      "  copying _skbuild/linux-x86_64-3.10/cmake-install/llama_cpp/llama_cpp.py -> _skbuild/linux-x86_64-3.10/setuptools/lib.linux-x86_64-cpython-310/llama_cpp\n",
      "  copying _skbuild/linux-x86_64-3.10/cmake-install/llama_cpp/server/__main__.py -> _skbuild/linux-x86_64-3.10/setuptools/lib.linux-x86_64-cpython-310/llama_cpp/server\n",
      "  copying _skbuild/linux-x86_64-3.10/cmake-install/llama_cpp/server/app.py -> _skbuild/linux-x86_64-3.10/setuptools/lib.linux-x86_64-cpython-310/llama_cpp/server\n",
      "  copying _skbuild/linux-x86_64-3.10/cmake-install/llama_cpp/server/__init__.py -> _skbuild/linux-x86_64-3.10/setuptools/lib.linux-x86_64-cpython-310/llama_cpp/server\n",
      "  copied 9 files\n",
      "  running build_ext\n",
      "  installing to _skbuild/linux-x86_64-3.10/setuptools/bdist.linux-x86_64/wheel\n",
      "  running install\n",
      "  running install_lib\n",
      "  creating _skbuild/linux-x86_64-3.10/setuptools/bdist.linux-x86_64\n",
      "  creating _skbuild/linux-x86_64-3.10/setuptools/bdist.linux-x86_64/wheel\n",
      "  creating _skbuild/linux-x86_64-3.10/setuptools/bdist.linux-x86_64/wheel/llama_cpp\n",
      "  copying _skbuild/linux-x86_64-3.10/setuptools/lib.linux-x86_64-cpython-310/llama_cpp/py.typed -> _skbuild/linux-x86_64-3.10/setuptools/bdist.linux-x86_64/wheel/llama_cpp\n",
      "  copying _skbuild/linux-x86_64-3.10/setuptools/lib.linux-x86_64-cpython-310/llama_cpp/llama_grammar.py -> _skbuild/linux-x86_64-3.10/setuptools/bdist.linux-x86_64/wheel/llama_cpp\n",
      "  copying _skbuild/linux-x86_64-3.10/setuptools/lib.linux-x86_64-cpython-310/llama_cpp/__init__.py -> _skbuild/linux-x86_64-3.10/setuptools/bdist.linux-x86_64/wheel/llama_cpp\n",
      "  copying _skbuild/linux-x86_64-3.10/setuptools/lib.linux-x86_64-cpython-310/llama_cpp/llama_types.py -> _skbuild/linux-x86_64-3.10/setuptools/bdist.linux-x86_64/wheel/llama_cpp\n",
      "  copying _skbuild/linux-x86_64-3.10/setuptools/lib.linux-x86_64-cpython-310/llama_cpp/utils.py -> _skbuild/linux-x86_64-3.10/setuptools/bdist.linux-x86_64/wheel/llama_cpp\n",
      "  copying _skbuild/linux-x86_64-3.10/setuptools/lib.linux-x86_64-cpython-310/llama_cpp/libllama.so -> _skbuild/linux-x86_64-3.10/setuptools/bdist.linux-x86_64/wheel/llama_cpp\n",
      "  creating _skbuild/linux-x86_64-3.10/setuptools/bdist.linux-x86_64/wheel/llama_cpp/server\n",
      "  copying _skbuild/linux-x86_64-3.10/setuptools/lib.linux-x86_64-cpython-310/llama_cpp/server/__main__.py -> _skbuild/linux-x86_64-3.10/setuptools/bdist.linux-x86_64/wheel/llama_cpp/server\n",
      "  copying _skbuild/linux-x86_64-3.10/setuptools/lib.linux-x86_64-cpython-310/llama_cpp/server/app.py -> _skbuild/linux-x86_64-3.10/setuptools/bdist.linux-x86_64/wheel/llama_cpp/server\n",
      "  copying _skbuild/linux-x86_64-3.10/setuptools/lib.linux-x86_64-cpython-310/llama_cpp/server/__init__.py -> _skbuild/linux-x86_64-3.10/setuptools/bdist.linux-x86_64/wheel/llama_cpp/server\n",
      "  copying _skbuild/linux-x86_64-3.10/setuptools/lib.linux-x86_64-cpython-310/llama_cpp/llama.py -> _skbuild/linux-x86_64-3.10/setuptools/bdist.linux-x86_64/wheel/llama_cpp\n",
      "  copying _skbuild/linux-x86_64-3.10/setuptools/lib.linux-x86_64-cpython-310/llama_cpp/llama_cpp.py -> _skbuild/linux-x86_64-3.10/setuptools/bdist.linux-x86_64/wheel/llama_cpp\n",
      "  copied 11 files\n",
      "  running install_data\n",
      "  creating _skbuild/linux-x86_64-3.10/setuptools/bdist.linux-x86_64/wheel/llama_cpp_python-0.1.78.data\n",
      "  creating _skbuild/linux-x86_64-3.10/setuptools/bdist.linux-x86_64/wheel/llama_cpp_python-0.1.78.data/data\n",
      "  creating _skbuild/linux-x86_64-3.10/setuptools/bdist.linux-x86_64/wheel/llama_cpp_python-0.1.78.data/data/lib\n",
      "  copying _skbuild/linux-x86_64-3.10/cmake-install/lib/libggml_shared.so -> _skbuild/linux-x86_64-3.10/setuptools/bdist.linux-x86_64/wheel/llama_cpp_python-0.1.78.data/data/lib\n",
      "  copying _skbuild/linux-x86_64-3.10/cmake-install/lib/libllama.so -> _skbuild/linux-x86_64-3.10/setuptools/bdist.linux-x86_64/wheel/llama_cpp_python-0.1.78.data/data/lib\n",
      "  creating _skbuild/linux-x86_64-3.10/setuptools/bdist.linux-x86_64/wheel/llama_cpp_python-0.1.78.data/data/bin\n",
      "  copying _skbuild/linux-x86_64-3.10/cmake-install/bin/convert-lora-to-ggml.py -> _skbuild/linux-x86_64-3.10/setuptools/bdist.linux-x86_64/wheel/llama_cpp_python-0.1.78.data/data/bin\n",
      "  copying _skbuild/linux-x86_64-3.10/cmake-install/bin/convert.py -> _skbuild/linux-x86_64-3.10/setuptools/bdist.linux-x86_64/wheel/llama_cpp_python-0.1.78.data/data/bin\n",
      "  running install_egg_info\n",
      "  running egg_info\n",
      "  writing llama_cpp_python.egg-info/PKG-INFO\n",
      "  writing dependency_links to llama_cpp_python.egg-info/dependency_links.txt\n",
      "  writing requirements to llama_cpp_python.egg-info/requires.txt\n",
      "  writing top-level names to llama_cpp_python.egg-info/top_level.txt\n",
      "  reading manifest file 'llama_cpp_python.egg-info/SOURCES.txt'\n",
      "  adding license file 'LICENSE.md'\n",
      "  writing manifest file 'llama_cpp_python.egg-info/SOURCES.txt'\n",
      "  Copying llama_cpp_python.egg-info to _skbuild/linux-x86_64-3.10/setuptools/bdist.linux-x86_64/wheel/llama_cpp_python-0.1.78-py3.10.egg-info\n",
      "  running install_scripts\n",
      "  copied 0 files\n",
      "  creating _skbuild/linux-x86_64-3.10/setuptools/bdist.linux-x86_64/wheel/llama_cpp_python-0.1.78.dist-info/WHEEL\n",
      "  creating '/tmp/pip-wheel-53f1cl0h/.tmp-yhs9y9cf/llama_cpp_python-0.1.78-cp310-cp310-linux_x86_64.whl' and adding '_skbuild/linux-x86_64-3.10/setuptools/bdist.linux-x86_64/wheel' to it\n",
      "  adding 'llama_cpp/__init__.py'\n",
      "  adding 'llama_cpp/libllama.so'\n",
      "  adding 'llama_cpp/llama.py'\n",
      "  adding 'llama_cpp/llama_cpp.py'\n",
      "  adding 'llama_cpp/llama_grammar.py'\n",
      "  adding 'llama_cpp/llama_types.py'\n",
      "  adding 'llama_cpp/py.typed'\n",
      "  adding 'llama_cpp/utils.py'\n",
      "  adding 'llama_cpp/server/__init__.py'\n",
      "  adding 'llama_cpp/server/__main__.py'\n",
      "  adding 'llama_cpp/server/app.py'\n",
      "  adding 'llama_cpp_python-0.1.78.data/data/bin/convert-lora-to-ggml.py'\n",
      "  adding 'llama_cpp_python-0.1.78.data/data/bin/convert.py'\n",
      "  adding 'llama_cpp_python-0.1.78.data/data/lib/libggml_shared.so'\n",
      "  adding 'llama_cpp_python-0.1.78.data/data/lib/libllama.so'\n",
      "  adding 'llama_cpp_python-0.1.78.dist-info/LICENSE.md'\n",
      "  adding 'llama_cpp_python-0.1.78.dist-info/METADATA'\n",
      "  adding 'llama_cpp_python-0.1.78.dist-info/WHEEL'\n",
      "  adding 'llama_cpp_python-0.1.78.dist-info/top_level.txt'\n",
      "  adding 'llama_cpp_python-0.1.78.dist-info/RECORD'\n",
      "  removing _skbuild/linux-x86_64-3.10/setuptools/bdist.linux-x86_64/wheel\n",
      "  Building wheel for llama-cpp-python (pyproject.toml) ... \u001b[?25l\u001b[?25hdone\n",
      "  Created wheel for llama-cpp-python: filename=llama_cpp_python-0.1.78-cp310-cp310-linux_x86_64.whl size=5822203 sha256=cef32af7055ff997c0248253742abdd17e739cb3e65e04017ea1314938295810\n",
      "  Stored in directory: /tmp/pip-ephem-wheel-cache-epmr8ln7/wheels/61/f9/20/9ca660a9d3f2a47e44217059409478865948b5c8a1cba70030\n",
      "Successfully built llama-cpp-python\n",
      "Installing collected packages: typing-extensions, numpy, diskcache, llama-cpp-python\n",
      "  Attempting uninstall: typing-extensions\n",
      "    Found existing installation: typing_extensions 4.5.0\n",
      "    Uninstalling typing_extensions-4.5.0:\n",
      "      Removing file or directory /usr/local/lib/python3.10/dist-packages/__pycache__/typing_extensions.cpython-310.pyc\n",
      "      Removing file or directory /usr/local/lib/python3.10/dist-packages/typing_extensions-4.5.0.dist-info/\n",
      "      Removing file or directory /usr/local/lib/python3.10/dist-packages/typing_extensions.py\n",
      "      Successfully uninstalled typing_extensions-4.5.0\n",
      "  Attempting uninstall: numpy\n",
      "    Found existing installation: numpy 1.23.5\n",
      "    Uninstalling numpy-1.23.5:\n",
      "      Removing file or directory /usr/local/bin/f2py\n",
      "      Removing file or directory /usr/local/bin/f2py3\n",
      "      Removing file or directory /usr/local/bin/f2py3.10\n",
      "      Removing file or directory /usr/local/lib/python3.10/dist-packages/numpy-1.23.5.dist-info/\n",
      "      Removing file or directory /usr/local/lib/python3.10/dist-packages/numpy.libs/\n",
      "      Removing file or directory /usr/local/lib/python3.10/dist-packages/numpy/\n",
      "      Successfully uninstalled numpy-1.23.5\n",
      "  changing mode of /usr/local/bin/f2py to 755\n",
      "  changing mode of /usr/local/bin/f2py3 to 755\n",
      "  changing mode of /usr/local/bin/f2py3.10 to 755\n",
      "  Attempting uninstall: diskcache\n",
      "    Found existing installation: diskcache 5.6.3\n",
      "    Uninstalling diskcache-5.6.3:\n",
      "      Removing file or directory /usr/local/lib/python3.10/dist-packages/diskcache-5.6.3.dist-info/\n",
      "      Removing file or directory /usr/local/lib/python3.10/dist-packages/diskcache/\n",
      "      Successfully uninstalled diskcache-5.6.3\n",
      "\u001b[31mERROR: pip's dependency resolver does not currently take into account all the packages that are installed. This behaviour is the source of the following dependency conflicts.\n",
      "lida 0.0.10 requires fastapi, which is not installed.\n",
      "lida 0.0.10 requires kaleido, which is not installed.\n",
      "lida 0.0.10 requires python-multipart, which is not installed.\n",
      "lida 0.0.10 requires uvicorn, which is not installed.\n",
      "llmx 0.0.15a0 requires cohere, which is not installed.\n",
      "llmx 0.0.15a0 requires openai, which is not installed.\n",
      "llmx 0.0.15a0 requires tiktoken, which is not installed.\n",
      "tensorflow 2.14.0 requires numpy>=1.23.5, but you have numpy 1.23.4 which is incompatible.\n",
      "tensorflow-probability 0.22.0 requires typing-extensions<4.6.0, but you have typing-extensions 4.9.0 which is incompatible.\u001b[0m\u001b[31m\n",
      "\u001b[0mSuccessfully installed diskcache-5.6.3 llama-cpp-python-0.1.78 numpy-1.23.4 typing-extensions-4.9.0\n"
     ]
    }
   ],
   "source": [
    "# GPU llama-cpp-python\n",
    "!CMAKE_ARGS=\"-DLLAMA_CUBLAS=on\" FORCE_CMAKE=1 pip install llama-cpp-python==0.1.78 numpy==1.23.4 --force-reinstall --upgrade --no-cache-dir --verbose\n"
   ]
  },
  {
   "cell_type": "code",
   "execution_count": 2,
   "metadata": {
    "colab": {
     "base_uri": "https://localhost:8080/"
    },
    "id": "7eG2KHacMNmf",
    "outputId": "ad20c229-688f-4c8e-d952-9f25d8cf5547"
   },
   "outputs": [
    {
     "name": "stdout",
     "output_type": "stream",
     "text": [
      "Requirement already satisfied: huggingface_hub in /usr/local/lib/python3.10/dist-packages (0.19.4)\n",
      "Requirement already satisfied: filelock in /usr/local/lib/python3.10/dist-packages (from huggingface_hub) (3.13.1)\n",
      "Requirement already satisfied: fsspec>=2023.5.0 in /usr/local/lib/python3.10/dist-packages (from huggingface_hub) (2023.6.0)\n",
      "Requirement already satisfied: requests in /usr/local/lib/python3.10/dist-packages (from huggingface_hub) (2.31.0)\n",
      "Requirement already satisfied: tqdm>=4.42.1 in /usr/local/lib/python3.10/dist-packages (from huggingface_hub) (4.66.1)\n",
      "Requirement already satisfied: pyyaml>=5.1 in /usr/local/lib/python3.10/dist-packages (from huggingface_hub) (6.0.1)\n",
      "Requirement already satisfied: typing-extensions>=3.7.4.3 in /usr/local/lib/python3.10/dist-packages (from huggingface_hub) (4.9.0)\n",
      "Requirement already satisfied: packaging>=20.9 in /usr/local/lib/python3.10/dist-packages (from huggingface_hub) (23.2)\n",
      "Requirement already satisfied: charset-normalizer<4,>=2 in /usr/local/lib/python3.10/dist-packages (from requests->huggingface_hub) (3.3.2)\n",
      "Requirement already satisfied: idna<4,>=2.5 in /usr/local/lib/python3.10/dist-packages (from requests->huggingface_hub) (3.6)\n",
      "Requirement already satisfied: urllib3<3,>=1.21.1 in /usr/local/lib/python3.10/dist-packages (from requests->huggingface_hub) (2.0.7)\n",
      "Requirement already satisfied: certifi>=2017.4.17 in /usr/local/lib/python3.10/dist-packages (from requests->huggingface_hub) (2023.11.17)\n"
     ]
    }
   ],
   "source": [
    "!pip install huggingface_hub"
   ]
  },
  {
   "cell_type": "code",
   "execution_count": 3,
   "metadata": {
    "colab": {
     "base_uri": "https://localhost:8080/"
    },
    "id": "wMmUWfi_MO7T",
    "outputId": "6e083cd8-d5b9-414e-84e3-9b34d9068272"
   },
   "outputs": [
    {
     "name": "stdout",
     "output_type": "stream",
     "text": [
      "Requirement already satisfied: llama-cpp-python==0.1.78 in /usr/local/lib/python3.10/dist-packages (0.1.78)\n",
      "Requirement already satisfied: typing-extensions>=4.5.0 in /usr/local/lib/python3.10/dist-packages (from llama-cpp-python==0.1.78) (4.9.0)\n",
      "Requirement already satisfied: numpy>=1.20.0 in /usr/local/lib/python3.10/dist-packages (from llama-cpp-python==0.1.78) (1.23.4)\n",
      "Requirement already satisfied: diskcache>=5.6.1 in /usr/local/lib/python3.10/dist-packages (from llama-cpp-python==0.1.78) (5.6.3)\n"
     ]
    }
   ],
   "source": [
    "pip install llama-cpp-python==0.1.78"
   ]
  },
  {
   "cell_type": "code",
   "execution_count": 4,
   "metadata": {
    "id": "h06OgvXRMJAj"
   },
   "outputs": [],
   "source": [
    "#!pip install numpy==1.23.4\n"
   ]
  },
  {
   "cell_type": "code",
   "execution_count": 5,
   "metadata": {
    "id": "ArL_n5MeKN5z"
   },
   "outputs": [],
   "source": [
    "from huggingface_hub import hf_hub_download\n",
    "from llama_cpp import Llama"
   ]
  },
  {
   "cell_type": "code",
   "execution_count": 6,
   "metadata": {
    "colab": {
     "base_uri": "https://localhost:8080/",
     "height": 49,
     "referenced_widgets": [
      "df4bc458c8ce4ea3976bf89135d6ad88",
      "22040c7f438e403b9c8c4bcf803cda7d",
      "3f537c1f5737431f96926d83b7ebd882",
      "d3c9958a593f402ab10bf1e0856c3559",
      "ad0c5d6cda7243d5aa2ae6faa0123015",
      "2bdd2b58a0d5410c8bc568872a8860a6",
      "bd279d1ecc2d4020b5f6a4a04ab73bff",
      "6d38b56c19d24d449ef4d57101b5bd40",
      "0f2c0def2282474d8745562d83fe4b9a",
      "3f24fca3b68f49c8b4f0b3159284d304",
      "8331efb496434bf6a614223410a1fc9f"
     ]
    },
    "id": "Cq--XT-8KJvv",
    "outputId": "e4db8bef-0ad7-42db-a6af-7de82b2a1254"
   },
   "outputs": [
    {
     "data": {
      "application/vnd.jupyter.widget-view+json": {
       "model_id": "df4bc458c8ce4ea3976bf89135d6ad88",
       "version_major": 2,
       "version_minor": 0
      },
      "text/plain": [
       "llama-2-13b-chat.ggmlv3.q5_1.bin:   0%|          | 0.00/9.76G [00:00<?, ?B/s]"
      ]
     },
     "metadata": {},
     "output_type": "display_data"
    }
   ],
   "source": [
    "model_name_or_path = \"TheBloke/Llama-2-13B-chat-GGML\"\n",
    "model_basename = \"llama-2-13b-chat.ggmlv3.q5_1.bin\" # the model is in bin format\n",
    "model_path = hf_hub_download(repo_id=model_name_or_path, filename=model_basename)\n",
    "\n"
   ]
  },
  {
   "cell_type": "code",
   "execution_count": 7,
   "metadata": {
    "colab": {
     "base_uri": "https://localhost:8080/"
    },
    "id": "Zp6lYf7iKRdP",
    "outputId": "5fbafd67-bea6-4a29-a513-9680a673ebf8"
   },
   "outputs": [
    {
     "name": "stderr",
     "output_type": "stream",
     "text": [
      "AVX = 1 | AVX2 = 1 | AVX512 = 0 | AVX512_VBMI = 0 | AVX512_VNNI = 0 | FMA = 1 | NEON = 0 | ARM_FMA = 0 | F16C = 1 | FP16_VA = 0 | WASM_SIMD = 0 | BLAS = 1 | SSE3 = 1 | VSX = 0 | \n"
     ]
    }
   ],
   "source": [
    "# GPU\n",
    "lcpp_llm = None\n",
    "lcpp_llm = Llama(\n",
    "    model_path=model_path,\n",
    "    n_threads=2, # CPU cores\n",
    "    n_batch=512, # Should be between 1 and n_ctx, consider the amount of VRAM in your GPU.\n",
    "    n_ctx=2048,\n",
    "    n_gpu_layers=32 # Change this value based on your model and your GPU VRAM pool.\n",
    "    )\n"
   ]
  },
  {
   "cell_type": "code",
   "execution_count": 8,
   "metadata": {
    "id": "m4Gr7d01KT9O"
   },
   "outputs": [],
   "source": [
    "prompt = \"who is the licensor and the licensee in the following document: Companies Selected For Next Stage In UK Dounreay Competition<299 words<11 June 2010<08:11<Dow Jones Energy Service<NRG<English<(c) 2010 Dow Jones & Company, Inc.<LONDON (Dow Jones)--Babcock Dounreay Partnership and Caithness Solutions have been selected to proceed to the next stage of a competition to bid for the Parent Body Organization contract at the Dounreay nuclear research facility in Scotland, the U.K.'s Nuclear Decommissioning Authority said Friday.<The PBO will take ownership, via a share transfer, for the duration of the contract, of the Dounreay Site Restoration Ltd. Site License Company, or DSRL SLC--the company that is responsible for the decomissioning process at Britain's former center of fast reactor research and development.<The annual average spend at the SLC over the past five years has been around GBP155 million a year.<Babcock Dounreay Partnership comprises Babcock Nuclear Services Ltd., CH2M Hill International Nuclear Services Ltd. and URS International Holdings (UK) Ltd., a subsidiary of U.S.-headquartered engineering and decomissioning company URS Corp. (URS).<The Caithness Solutions consortium comprises Energy Solutions EU Ltd., a unit of U.S. international nuclear services company EnergySolutions Inc. (ES) and Amec Nuclear Holdings Ltd., a unit of U.K.-listed engineering and services company Amec PLC (AMEC.LN).<The next stage is a \"\"dialogue\"\" with the two groups, beginning with a six-week period of information gathering at the site. This is intended to help the two consortia prepare for a formal dialogue and their final submission, the NDA said in a statement.<From 1955 to 1994, Dounreay was Britain's center of fast reactor research and development and in 1961 became the first fast breeder reactor in the world to supply electricity to the national grid.<Website: http://www.nda.gov.uk<-By Selina Williams, Dow Jones Newswires +44 207 842 9262; selina.williams@dowjones.com [ 06-11-10 0811ET ]\"\n",
    "\n",
    "prompt_template=f'''SYSTEM: You are a helpful, respectful and honest assistant. Always answer as helpfully.\n",
    "\n",
    "USER: {prompt}\n",
    "\n",
    "ASSISTANT:\n",
    "'''\n",
    "\n",
    "response=lcpp_llm(prompt=prompt_template, max_tokens=700, temperature=0.5, top_p=0.95,\n",
    "                  repeat_penalty=1.2, top_k=150,\n",
    "                  echo=True)"
   ]
  },
  {
   "cell_type": "code",
   "execution_count": 9,
   "metadata": {
    "colab": {
     "base_uri": "https://localhost:8080/"
    },
    "id": "XQPGnGZTKa9k",
    "outputId": "b2049451-8c36-4bd5-d8be-d44306e5ed57"
   },
   "outputs": [
    {
     "name": "stdout",
     "output_type": "stream",
     "text": [
      "SYSTEM: You are a helpful, respectful and honest assistant. Always answer as helpfully.\n",
      "\n",
      "USER: who is the licensor and the licensee in the following document: Companies Selected For Next Stage In UK Dounreay Competition<299 words<11 June 2010<08:11<Dow Jones Energy Service<NRG<English<(c) 2010 Dow Jones & Company, Inc.<LONDON (Dow Jones)--Babcock Dounreay Partnership and Caithness Solutions have been selected to proceed to the next stage of a competition to bid for the Parent Body Organization contract at the Dounreay nuclear research facility in Scotland, the U.K.'s Nuclear Decommissioning Authority said Friday.<The PBO will take ownership, via a share transfer, for the duration of the contract, of the Dounreay Site Restoration Ltd. Site License Company, or DSRL SLC--the company that is responsible for the decomissioning process at Britain's former center of fast reactor research and development.<The annual average spend at the SLC over the past five years has been around GBP155 million a year.<Babcock Dounreay Partnership comprises Babcock Nuclear Services Ltd., CH2M Hill International Nuclear Services Ltd. and URS International Holdings (UK) Ltd., a subsidiary of U.S.-headquartered engineering and decomissioning company URS Corp. (URS).<The Caithness Solutions consortium comprises Energy Solutions EU Ltd., a unit of U.S. international nuclear services company EnergySolutions Inc. (ES) and Amec Nuclear Holdings Ltd., a unit of U.K.-listed engineering and services company Amec PLC (AMEC.LN).<The next stage is a dialogue with the two groups, beginning with a six-week period of information gathering at the site. This is intended to help the two consortia prepare for a formal dialogue and their final submission, the NDA said in a statement.<From 1955 to 1994, Dounreay was Britain's center of fast reactor research and development and in 1961 became the first fast breeder reactor in the world to supply electricity to the national grid.<Website: http://www.nda.gov.uk<-By Selina Williams, Dow Jones Newswires +44 207 842 9262; selina.williams@dowjones.com [ 06-11-10 0811ET ]\n",
      "\n",
      "ASSISTANT:\n",
      "\n",
      "The licensor in the provided document is Dounreay Site Restoration Ltd. (DSRL) and the licensee is the Nuclear Decommissioning Authority (NDA).\n"
     ]
    }
   ],
   "source": [
    "print(response[\"choices\"][0][\"text\"])\n"
   ]
  },
  {
   "cell_type": "code",
   "execution_count": 10,
   "metadata": {
    "colab": {
     "base_uri": "https://localhost:8080/"
    },
    "id": "ZazvuEhKKV9c",
    "outputId": "9ee659d3-cf0a-4007-b5c2-6de6c4ad343d"
   },
   "outputs": [
    {
     "name": "stderr",
     "output_type": "stream",
     "text": [
      "Llama.generate: prefix-match hit\n"
     ]
    },
    {
     "name": "stdout",
     "output_type": "stream",
     "text": [
      "SYSTEM: You are a helpful, respectful and honest assistant. Always answer as helpfully.\n",
      "\n",
      "USER: who is the licensor and the licensee in the following document  please use this format (the licensor is: , the licensee is: )?: Companies Selected For Next Stage In UK Dounreay Competition<299 words<11 June 2010<08:11<Dow Jones Energy Service<NRG<English<(c) 2010 Dow Jones & Company, Inc.<LONDON (Dow Jones)--Babcock Dounreay Partnership and Caithness Solutions have been selected to proceed to the next stage of a competition to bid for the Parent Body Organization contract at the Dounreay nuclear research facility in Scotland, the U.K.'s Nuclear Decommissioning Authority said Friday.<The PBO will take ownership, via a share transfer, for the duration of the contract, of the Dounreay Site Restoration Ltd. Site License Company, or DSRL SLC--the company that is responsible for the decomissioning process at Britain's former center of fast reactor research and development.<The annual average spend at the SLC over the past five years has been around GBP155 million a year.<Babcock Dounreay Partnership comprises Babcock Nuclear Services Ltd., CH2M Hill International Nuclear Services Ltd. and URS International Holdings (UK) Ltd., a subsidiary of U.S.-headquartered engineering and decomissioning company URS Corp. (URS).<The Caithness Solutions consortium comprises Energy Solutions EU Ltd., a unit of U.S. international nuclear services company EnergySolutions Inc. (ES) and Amec Nuclear Holdings Ltd., a unit of U.K.-listed engineering and services company Amec PLC (AMEC.LN).<The next stage is a dialogue with the two groups, beginning with a six-week period of information gathering at the site. This is intended to help the two consortia prepare for a formal dialogue and their final submission, the NDA said in a statement.<From 1955 to 1994, Dounreay was Britain's center of fast reactor research and development and in 1961 became the first fast breeder reactor in the world to supply electricity to the national grid.<Website: http://www.nda.gov.uk<-By Selina Williams, Dow Jones Newswires +44 207 842 9262; selina.williams@dowjones.com [ 06-11-10 0811ET ]\n",
      "\n",
      "ASSISTANT:\n",
      "The licensor is: Dounreay Site Restoration Ltd. (DSRL SLC)\n",
      "The licensee is: Babcock Dounreay Partnership and Caithness Solutions\n"
     ]
    }
   ],
   "source": [
    "# Changing temperature values and setting\n",
    "prompt = \"who is the licensor and the licensee in the following document  please use this format (the licensor is: , the licensee is: )?: Companies Selected For Next Stage In UK Dounreay Competition<299 words<11 June 2010<08:11<Dow Jones Energy Service<NRG<English<(c) 2010 Dow Jones & Company, Inc.<LONDON (Dow Jones)--Babcock Dounreay Partnership and Caithness Solutions have been selected to proceed to the next stage of a competition to bid for the Parent Body Organization contract at the Dounreay nuclear research facility in Scotland, the U.K.'s Nuclear Decommissioning Authority said Friday.<The PBO will take ownership, via a share transfer, for the duration of the contract, of the Dounreay Site Restoration Ltd. Site License Company, or DSRL SLC--the company that is responsible for the decomissioning process at Britain's former center of fast reactor research and development.<The annual average spend at the SLC over the past five years has been around GBP155 million a year.<Babcock Dounreay Partnership comprises Babcock Nuclear Services Ltd., CH2M Hill International Nuclear Services Ltd. and URS International Holdings (UK) Ltd., a subsidiary of U.S.-headquartered engineering and decomissioning company URS Corp. (URS).<The Caithness Solutions consortium comprises Energy Solutions EU Ltd., a unit of U.S. international nuclear services company EnergySolutions Inc. (ES) and Amec Nuclear Holdings Ltd., a unit of U.K.-listed engineering and services company Amec PLC (AMEC.LN).<The next stage is a \"\"dialogue\"\" with the two groups, beginning with a six-week period of information gathering at the site. This is intended to help the two consortia prepare for a formal dialogue and their final submission, the NDA said in a statement.<From 1955 to 1994, Dounreay was Britain's center of fast reactor research and development and in 1961 became the first fast breeder reactor in the world to supply electricity to the national grid.<Website: http://www.nda.gov.uk<-By Selina Williams, Dow Jones Newswires +44 207 842 9262; selina.williams@dowjones.com [ 06-11-10 0811ET ]\"\n",
    "\n",
    "prompt_template=f'''SYSTEM: You are a helpful, respectful and honest assistant. Always answer as helpfully.\n",
    "\n",
    "USER: {prompt}\n",
    "\n",
    "ASSISTANT:\n",
    "'''\n",
    "\n",
    "response=lcpp_llm(prompt=prompt_template, max_tokens=700, temperature=0.8, top_p=0.95,\n",
    "                  repeat_penalty=1.2, top_k=150,\n",
    "                  echo=True)\n",
    "\n",
    "print(response[\"choices\"][0][\"text\"])\n",
    "\n"
   ]
  },
  {
   "cell_type": "code",
   "execution_count": null,
   "metadata": {
    "colab": {
     "base_uri": "https://localhost:8080/",
     "height": 244
    },
    "id": "iS6rVpKBXQna",
    "outputId": "411a5122-b2d8-41cd-aab8-9a28c91da48f"
   },
   "outputs": [
    {
     "data": {
      "application/vnd.google.colaboratory.intrinsic+json": {
       "type": "string"
      },
      "text/plain": [
       "\"SYSTEM: You are a helpful, respectful and honest assistant. Always answer as helpfully.\\n\\nUSER: who is the licensor and the licensee in the following document  please us this format (the licensor is: , the licensee is: )?: Companies Selected For Next Stage In UK Dounreay Competition<299 words<11 June 2010<08:11<Dow Jones Energy Service<NRG<English<(c) 2010 Dow Jones & Company, Inc.<LONDON (Dow Jones)--Babcock Dounreay Partnership and Caithness Solutions have been selected to proceed to the next stage of a competition to bid for the Parent Body Organization contract at the Dounreay nuclear research facility in Scotland, the U.K.'s Nuclear Decommissioning Authority said Friday.<The PBO will take ownership, via a share transfer, for the duration of the contract, of the Dounreay Site Restoration Ltd. Site License Company, or DSRL SLC--the company that is responsible for the decomissioning process at Britain's former center of fast reactor research and development.<The annual average spend at the SLC over the past five years has been around GBP155 million a year.<Babcock Dounreay Partnership comprises Babcock Nuclear Services Ltd., CH2M Hill International Nuclear Services Ltd. and URS International Holdings (UK) Ltd., a subsidiary of U.S.-headquartered engineering and decomissioning company URS Corp. (URS).<The Caithness Solutions consortium comprises Energy Solutions EU Ltd., a unit of U.S. international nuclear services company EnergySolutions Inc. (ES) and Amec Nuclear Holdings Ltd., a unit of U.K.-listed engineering and services company Amec PLC (AMEC.LN).<The next stage is a dialogue with the two groups, beginning with a six-week period of information gathering at the site. This is intended to help the two consortia prepare for a formal dialogue and their final submission, the NDA said in a statement.<From 1955 to 1994, Dounreay was Britain's center of fast reactor research and development and in 1961 became the first fast breeder reactor in the world to supply electricity to the national grid.<Website: http://www.nda.gov.uk<-By Selina Williams, Dow Jones Newswires +44 207 842 9262; selina.williams@dowjones.com [ 06-11-10 0811ET ]\\n\\nASSISTANT:\\nThe licensor is: Dounreay Site Restoration Ltd. (DSRL SLC)\\nThe licensee is: Babcock Dounreay Partnership and Caithness Solutions\""
      ]
     },
     "execution_count": 9,
     "metadata": {},
     "output_type": "execute_result"
    }
   ],
   "source": [
    "response[\"choices\"][0][\"text\"]"
   ]
  },
  {
   "cell_type": "code",
   "execution_count": null,
   "metadata": {
    "colab": {
     "base_uri": "https://localhost:8080/"
    },
    "id": "RmPdTs6fX3LP",
    "outputId": "649bd2b5-4399-4afc-980b-718fe4d8fc9e"
   },
   "outputs": [
    {
     "data": {
      "text/plain": [
       "{'id': 'cmpl-8decb2ae-5047-4272-aee1-928ff48ec7d3',\n",
       " 'object': 'text_completion',\n",
       " 'created': 1694202383,\n",
       " 'model': '/root/.cache/huggingface/hub/models--TheBloke--Llama-2-13B-chat-GGML/snapshots/a17885f653039bd07ed0f8ff4ecc373abf5425fd/llama-2-13b-chat.ggmlv3.q5_1.bin',\n",
       " 'choices': [{'text': \"SYSTEM: You are a helpful, respectful and honest assistant. Always answer as helpfully.\\n\\nUSER: who is the licensor and the licensee in the following document  please us this format (the licensor is: , the licensee is: )?: Companies Selected For Next Stage In UK Dounreay Competition<299 words<11 June 2010<08:11<Dow Jones Energy Service<NRG<English<(c) 2010 Dow Jones & Company, Inc.<LONDON (Dow Jones)--Babcock Dounreay Partnership and Caithness Solutions have been selected to proceed to the next stage of a competition to bid for the Parent Body Organization contract at the Dounreay nuclear research facility in Scotland, the U.K.'s Nuclear Decommissioning Authority said Friday.<The PBO will take ownership, via a share transfer, for the duration of the contract, of the Dounreay Site Restoration Ltd. Site License Company, or DSRL SLC--the company that is responsible for the decomissioning process at Britain's former center of fast reactor research and development.<The annual average spend at the SLC over the past five years has been around GBP155 million a year.<Babcock Dounreay Partnership comprises Babcock Nuclear Services Ltd., CH2M Hill International Nuclear Services Ltd. and URS International Holdings (UK) Ltd., a subsidiary of U.S.-headquartered engineering and decomissioning company URS Corp. (URS).<The Caithness Solutions consortium comprises Energy Solutions EU Ltd., a unit of U.S. international nuclear services company EnergySolutions Inc. (ES) and Amec Nuclear Holdings Ltd., a unit of U.K.-listed engineering and services company Amec PLC (AMEC.LN).<The next stage is a dialogue with the two groups, beginning with a six-week period of information gathering at the site. This is intended to help the two consortia prepare for a formal dialogue and their final submission, the NDA said in a statement.<From 1955 to 1994, Dounreay was Britain's center of fast reactor research and development and in 1961 became the first fast breeder reactor in the world to supply electricity to the national grid.<Website: http://www.nda.gov.uk<-By Selina Williams, Dow Jones Newswires +44 207 842 9262; selina.williams@dowjones.com [ 06-11-10 0811ET ]\\n\\nASSISTANT:\\nThe licensor is: Dounreay Site Restoration Ltd. (DSRL SLC)\\nThe licensee is: Babcock Dounreay Partnership and Caithness Solutions\",\n",
       "   'index': 0,\n",
       "   'logprobs': None,\n",
       "   'finish_reason': 'stop'}],\n",
       " 'usage': {'prompt_tokens': 618, 'completion_tokens': 41, 'total_tokens': 659}}"
      ]
     },
     "execution_count": 10,
     "metadata": {},
     "output_type": "execute_result"
    }
   ],
   "source": [
    "response"
   ]
  },
  {
   "cell_type": "code",
   "execution_count": null,
   "metadata": {
    "colab": {
     "base_uri": "https://localhost:8080/"
    },
    "id": "LBxf1lfAZkOG",
    "outputId": "f2456308-a2dc-4e1f-e176-4d79cd2e0800"
   },
   "outputs": [
    {
     "name": "stdout",
     "output_type": "stream",
     "text": [
      "The licensor is: Dounreay Site Restoration Ltd. (DSRL SLC)\n",
      "The licensee is: Babcock Dounreay Partnership and Caithness Solutions\n"
     ]
    }
   ],
   "source": [
    "text=response[\"choices\"][0][\"text\"]\n",
    "\n",
    "lines = text.split('\\n')\n",
    "\n",
    "# Find the index of the line that contains \"ASSISTANT\"\n",
    "assistant_index = -1\n",
    "for i, line in enumerate(lines):\n",
    "    if \"ASSISTANT:\" in line:\n",
    "        assistant_index = i\n",
    "        break\n",
    "\n",
    "# Extract the lines after \"ASSISTANT\"\n",
    "if assistant_index != -1 and assistant_index < len(lines) - 1:\n",
    "    lines_after_assistant = lines[assistant_index + 1:]\n",
    "else:\n",
    "    lines_after_assistant = []\n",
    "\n",
    "# Join the extracted lines into a single string\n",
    "result = '\\n'.join(lines_after_assistant)\n",
    "\n",
    "print(result)"
   ]
  },
  {
   "cell_type": "code",
   "execution_count": null,
   "metadata": {
    "id": "24qhJCGoaHaO"
   },
   "outputs": [],
   "source": [
    "import pandas as pd"
   ]
  },
  {
   "cell_type": "code",
   "execution_count": null,
   "metadata": {
    "colab": {
     "base_uri": "https://localhost:8080/"
    },
    "id": "zsu8XCpnafBb",
    "outputId": "3d591799-80f3-4930-dbe3-b9ef8b263c32"
   },
   "outputs": [
    {
     "data": {
      "text/plain": [
       "['The licensor is: Dounreay Site Restoration Ltd. (DSRL SLC)',\n",
       " 'The licensee is: Babcock Dounreay Partnership and Caithness Solutions']"
      ]
     },
     "execution_count": 19,
     "metadata": {},
     "output_type": "execute_result"
    }
   ],
   "source": [
    "result.split('\\n')"
   ]
  },
  {
   "cell_type": "code",
   "execution_count": null,
   "metadata": {
    "colab": {
     "base_uri": "https://localhost:8080/",
     "height": 160
    },
    "id": "IIb6a9fvaE1d",
    "outputId": "121b795a-6310-441c-b8a8-fee934fb4fb7"
   },
   "outputs": [
    {
     "data": {
      "text/html": [
       "\n",
       "  <div id=\"df-2e6faada-af99-4582-a299-8ab525de3815\" class=\"colab-df-container\">\n",
       "    <div>\n",
       "<style scoped>\n",
       "    .dataframe tbody tr th:only-of-type {\n",
       "        vertical-align: middle;\n",
       "    }\n",
       "\n",
       "    .dataframe tbody tr th {\n",
       "        vertical-align: top;\n",
       "    }\n",
       "\n",
       "    .dataframe thead th {\n",
       "        text-align: right;\n",
       "    }\n",
       "</style>\n",
       "<table border=\"1\" class=\"dataframe\">\n",
       "  <thead>\n",
       "    <tr style=\"text-align: right;\">\n",
       "      <th></th>\n",
       "      <th>licensor</th>\n",
       "      <th>licensee</th>\n",
       "    </tr>\n",
       "  </thead>\n",
       "  <tbody>\n",
       "    <tr>\n",
       "      <th>0</th>\n",
       "      <td>Dounreay Site Restoration Ltd. (DSRL SLC)</td>\n",
       "      <td>Babcock Dounreay Partnership and Caithness Sol...</td>\n",
       "    </tr>\n",
       "  </tbody>\n",
       "</table>\n",
       "</div>\n",
       "    <div class=\"colab-df-buttons\">\n",
       "\n",
       "  <div class=\"colab-df-container\">\n",
       "    <button class=\"colab-df-convert\" onclick=\"convertToInteractive('df-2e6faada-af99-4582-a299-8ab525de3815')\"\n",
       "            title=\"Convert this dataframe to an interactive table.\"\n",
       "            style=\"display:none;\">\n",
       "\n",
       "  <svg xmlns=\"http://www.w3.org/2000/svg\" height=\"24px\" viewBox=\"0 -960 960 960\">\n",
       "    <path d=\"M120-120v-720h720v720H120Zm60-500h600v-160H180v160Zm220 220h160v-160H400v160Zm0 220h160v-160H400v160ZM180-400h160v-160H180v160Zm440 0h160v-160H620v160ZM180-180h160v-160H180v160Zm440 0h160v-160H620v160Z\"/>\n",
       "  </svg>\n",
       "    </button>\n",
       "\n",
       "  <style>\n",
       "    .colab-df-container {\n",
       "      display:flex;\n",
       "      gap: 12px;\n",
       "    }\n",
       "\n",
       "    .colab-df-convert {\n",
       "      background-color: #E8F0FE;\n",
       "      border: none;\n",
       "      border-radius: 50%;\n",
       "      cursor: pointer;\n",
       "      display: none;\n",
       "      fill: #1967D2;\n",
       "      height: 32px;\n",
       "      padding: 0 0 0 0;\n",
       "      width: 32px;\n",
       "    }\n",
       "\n",
       "    .colab-df-convert:hover {\n",
       "      background-color: #E2EBFA;\n",
       "      box-shadow: 0px 1px 2px rgba(60, 64, 67, 0.3), 0px 1px 3px 1px rgba(60, 64, 67, 0.15);\n",
       "      fill: #174EA6;\n",
       "    }\n",
       "\n",
       "    .colab-df-buttons div {\n",
       "      margin-bottom: 4px;\n",
       "    }\n",
       "\n",
       "    [theme=dark] .colab-df-convert {\n",
       "      background-color: #3B4455;\n",
       "      fill: #D2E3FC;\n",
       "    }\n",
       "\n",
       "    [theme=dark] .colab-df-convert:hover {\n",
       "      background-color: #434B5C;\n",
       "      box-shadow: 0px 1px 3px 1px rgba(0, 0, 0, 0.15);\n",
       "      filter: drop-shadow(0px 1px 2px rgba(0, 0, 0, 0.3));\n",
       "      fill: #FFFFFF;\n",
       "    }\n",
       "  </style>\n",
       "\n",
       "    <script>\n",
       "      const buttonEl =\n",
       "        document.querySelector('#df-2e6faada-af99-4582-a299-8ab525de3815 button.colab-df-convert');\n",
       "      buttonEl.style.display =\n",
       "        google.colab.kernel.accessAllowed ? 'block' : 'none';\n",
       "\n",
       "      async function convertToInteractive(key) {\n",
       "        const element = document.querySelector('#df-2e6faada-af99-4582-a299-8ab525de3815');\n",
       "        const dataTable =\n",
       "          await google.colab.kernel.invokeFunction('convertToInteractive',\n",
       "                                                    [key], {});\n",
       "        if (!dataTable) return;\n",
       "\n",
       "        const docLinkHtml = 'Like what you see? Visit the ' +\n",
       "          '<a target=\"_blank\" href=https://colab.research.google.com/notebooks/data_table.ipynb>data table notebook</a>'\n",
       "          + ' to learn more about interactive tables.';\n",
       "        element.innerHTML = '';\n",
       "        dataTable['output_type'] = 'display_data';\n",
       "        await google.colab.output.renderOutput(dataTable, element);\n",
       "        const docLink = document.createElement('div');\n",
       "        docLink.innerHTML = docLinkHtml;\n",
       "        element.appendChild(docLink);\n",
       "      }\n",
       "    </script>\n",
       "  </div>\n",
       "\n",
       "    </div>\n",
       "  </div>\n"
      ],
      "text/plain": [
       "                                    licensor  \\\n",
       "0  Dounreay Site Restoration Ltd. (DSRL SLC)   \n",
       "\n",
       "                                            licensee  \n",
       "0  Babcock Dounreay Partnership and Caithness Sol...  "
      ]
     },
     "execution_count": 18,
     "metadata": {},
     "output_type": "execute_result"
    }
   ],
   "source": [
    "lines = result.split('\\n')\n",
    "\n",
    "licensor_list = []\n",
    "licensee_list = []\n",
    "\n",
    "for line in lines:\n",
    "    if \"licensor\" in line.lower():\n",
    "        licensor_value = line.split(\":\")[1].strip()\n",
    "        licensor_list.append(licensor_value)\n",
    "    elif \"licensee\" in line.lower():\n",
    "        licensee_value = line.split(\":\")[1].strip()\n",
    "        licensee_list.append(licensee_value)\n",
    "\n",
    "df = pd.DataFrame({'licensor': licensor_list, 'licensee': licensee_list})\n",
    "df"
   ]
  },
  {
   "cell_type": "markdown",
   "metadata": {
    "id": "nsf1eRDOBOtb"
   },
   "source": [
    "Extracting Technology from the data as well\n"
   ]
  },
  {
   "cell_type": "code",
   "execution_count": 13,
   "metadata": {
    "colab": {
     "base_uri": "https://localhost:8080/"
    },
    "id": "JOt_H2Z9BXBt",
    "outputId": "3cc4448b-7f33-45de-d2fa-cc1845a57fdb"
   },
   "outputs": [
    {
     "name": "stderr",
     "output_type": "stream",
     "text": [
      "Llama.generate: prefix-match hit\n"
     ]
    }
   ],
   "source": [
    "prompt = \"what is the technology that is being discussed in the text(use format technology: ) answer in one word: Companies Selected For Next Stage In UK Dounreay Competition<299 words<11 June 2010<08:11<Dow Jones Energy Service<NRG<English<(c) 2010 Dow Jones & Company, Inc.<LONDON (Dow Jones)--Babcock Dounreay Partnership and Caithness Solutions have been selected to proceed to the next stage of a competition to bid for the Parent Body Organization contract at the Dounreay nuclear research facility in Scotland, the U.K.'s Nuclear Decommissioning Authority said Friday.<The PBO will take ownership, via a share transfer, for the duration of the contract, of the Dounreay Site Restoration Ltd. Site License Company, or DSRL SLC--the company that is responsible for the decomissioning process at Britain's former center of fast reactor research and development.<The annual average spend at the SLC over the past five years has been around GBP155 million a year.<Babcock Dounreay Partnership comprises Babcock Nuclear Services Ltd., CH2M Hill International Nuclear Services Ltd. and URS International Holdings (UK) Ltd., a subsidiary of U.S.-headquartered engineering and decomissioning company URS Corp. (URS).<The Caithness Solutions consortium comprises Energy Solutions EU Ltd., a unit of U.S. international nuclear services company EnergySolutions Inc. (ES) and Amec Nuclear Holdings Ltd., a unit of U.K.-listed engineering and services company Amec PLC (AMEC.LN).<The next stage is a \"\"dialogue\"\" with the two groups, beginning with a six-week period of information gathering at the site. This is intended to help the two consortia prepare for a formal dialogue and their final submission, the NDA said in a statement.<From 1955 to 1994, Dounreay was Britain's center of fast reactor research and development and in 1961 became the first fast breeder reactor in the world to supply electricity to the national grid.<Website: http://www.nda.gov.uk<-By Selina Williams, Dow Jones Newswires +44 207 842 9262; selina.williams@dowjones.com [ 06-11-10 0811ET ]\"\n",
    "\n",
    "prompt_template=f'''SYSTEM: You are a helpful, respectful and honest assistant. Always answer as helpfully.\n",
    "\n",
    "USER: {prompt}\n",
    "\n",
    "ASSISTANT:\n",
    "'''\n",
    "\n",
    "response=lcpp_llm(prompt=prompt_template, max_tokens=700, temperature=0.5, top_p=0.95,\n",
    "                  repeat_penalty=1.2, top_k=150,\n",
    "                  echo=True)"
   ]
  },
  {
   "cell_type": "code",
   "execution_count": 14,
   "metadata": {
    "colab": {
     "base_uri": "https://localhost:8080/"
    },
    "id": "U5sD0tdQBOeJ",
    "outputId": "973a2860-b982-4d35-c4a6-5b8977d2099a"
   },
   "outputs": [
    {
     "name": "stdout",
     "output_type": "stream",
     "text": [
      "SYSTEM: You are a helpful, respectful and honest assistant. Always answer as helpfully.\n",
      "\n",
      "USER: what is the technology that is being discussed in the text(use format technology: ) answer in one word: Companies Selected For Next Stage In UK Dounreay Competition<299 words<11 June 2010<08:11<Dow Jones Energy Service<NRG<English<(c) 2010 Dow Jones & Company, Inc.<LONDON (Dow Jones)--Babcock Dounreay Partnership and Caithness Solutions have been selected to proceed to the next stage of a competition to bid for the Parent Body Organization contract at the Dounreay nuclear research facility in Scotland, the U.K.'s Nuclear Decommissioning Authority said Friday.<The PBO will take ownership, via a share transfer, for the duration of the contract, of the Dounreay Site Restoration Ltd. Site License Company, or DSRL SLC--the company that is responsible for the decomissioning process at Britain's former center of fast reactor research and development.<The annual average spend at the SLC over the past five years has been around GBP155 million a year.<Babcock Dounreay Partnership comprises Babcock Nuclear Services Ltd., CH2M Hill International Nuclear Services Ltd. and URS International Holdings (UK) Ltd., a subsidiary of U.S.-headquartered engineering and decomissioning company URS Corp. (URS).<The Caithness Solutions consortium comprises Energy Solutions EU Ltd., a unit of U.S. international nuclear services company EnergySolutions Inc. (ES) and Amec Nuclear Holdings Ltd., a unit of U.K.-listed engineering and services company Amec PLC (AMEC.LN).<The next stage is a dialogue with the two groups, beginning with a six-week period of information gathering at the site. This is intended to help the two consortia prepare for a formal dialogue and their final submission, the NDA said in a statement.<From 1955 to 1994, Dounreay was Britain's center of fast reactor research and development and in 1961 became the first fast breeder reactor in the world to supply electricity to the national grid.<Website: http://www.nda.gov.uk<-By Selina Williams, Dow Jones Newswires +44 207 842 9262; selina.williams@dowjones.com [ 06-11-10 0811ET ]\n",
      "\n",
      "ASSISTANT:\n",
      "\n",
      "TECHNOLOGY: nuclear research and development\n"
     ]
    }
   ],
   "source": [
    "\n",
    "print(response[\"choices\"][0][\"text\"])"
   ]
  },
  {
   "cell_type": "code",
   "execution_count": null,
   "metadata": {
    "id": "Awk75ZHnB7GS"
   },
   "outputs": [],
   "source": []
  }
 ],
 "metadata": {
  "accelerator": "GPU",
  "colab": {
   "gpuType": "T4",
   "provenance": []
  },
  "kernelspec": {
   "display_name": "Python 3 (ipykernel)",
   "language": "python",
   "name": "python3"
  },
  "language_info": {
   "codemirror_mode": {
    "name": "ipython",
    "version": 3
   },
   "file_extension": ".py",
   "mimetype": "text/x-python",
   "name": "python",
   "nbconvert_exporter": "python",
   "pygments_lexer": "ipython3",
   "version": "3.11.5"
  },
  "widgets": {
   "application/vnd.jupyter.widget-state+json": {
    "0f2c0def2282474d8745562d83fe4b9a": {
     "model_module": "@jupyter-widgets/controls",
     "model_module_version": "1.5.0",
     "model_name": "ProgressStyleModel",
     "state": {
      "_model_module": "@jupyter-widgets/controls",
      "_model_module_version": "1.5.0",
      "_model_name": "ProgressStyleModel",
      "_view_count": null,
      "_view_module": "@jupyter-widgets/base",
      "_view_module_version": "1.2.0",
      "_view_name": "StyleView",
      "bar_color": null,
      "description_width": ""
     }
    },
    "22040c7f438e403b9c8c4bcf803cda7d": {
     "model_module": "@jupyter-widgets/controls",
     "model_module_version": "1.5.0",
     "model_name": "HTMLModel",
     "state": {
      "_dom_classes": [],
      "_model_module": "@jupyter-widgets/controls",
      "_model_module_version": "1.5.0",
      "_model_name": "HTMLModel",
      "_view_count": null,
      "_view_module": "@jupyter-widgets/controls",
      "_view_module_version": "1.5.0",
      "_view_name": "HTMLView",
      "description": "",
      "description_tooltip": null,
      "layout": "IPY_MODEL_2bdd2b58a0d5410c8bc568872a8860a6",
      "placeholder": "​",
      "style": "IPY_MODEL_bd279d1ecc2d4020b5f6a4a04ab73bff",
      "value": "llama-2-13b-chat.ggmlv3.q5_1.bin: 100%"
     }
    },
    "2bdd2b58a0d5410c8bc568872a8860a6": {
     "model_module": "@jupyter-widgets/base",
     "model_module_version": "1.2.0",
     "model_name": "LayoutModel",
     "state": {
      "_model_module": "@jupyter-widgets/base",
      "_model_module_version": "1.2.0",
      "_model_name": "LayoutModel",
      "_view_count": null,
      "_view_module": "@jupyter-widgets/base",
      "_view_module_version": "1.2.0",
      "_view_name": "LayoutView",
      "align_content": null,
      "align_items": null,
      "align_self": null,
      "border": null,
      "bottom": null,
      "display": null,
      "flex": null,
      "flex_flow": null,
      "grid_area": null,
      "grid_auto_columns": null,
      "grid_auto_flow": null,
      "grid_auto_rows": null,
      "grid_column": null,
      "grid_gap": null,
      "grid_row": null,
      "grid_template_areas": null,
      "grid_template_columns": null,
      "grid_template_rows": null,
      "height": null,
      "justify_content": null,
      "justify_items": null,
      "left": null,
      "margin": null,
      "max_height": null,
      "max_width": null,
      "min_height": null,
      "min_width": null,
      "object_fit": null,
      "object_position": null,
      "order": null,
      "overflow": null,
      "overflow_x": null,
      "overflow_y": null,
      "padding": null,
      "right": null,
      "top": null,
      "visibility": null,
      "width": null
     }
    },
    "3f24fca3b68f49c8b4f0b3159284d304": {
     "model_module": "@jupyter-widgets/base",
     "model_module_version": "1.2.0",
     "model_name": "LayoutModel",
     "state": {
      "_model_module": "@jupyter-widgets/base",
      "_model_module_version": "1.2.0",
      "_model_name": "LayoutModel",
      "_view_count": null,
      "_view_module": "@jupyter-widgets/base",
      "_view_module_version": "1.2.0",
      "_view_name": "LayoutView",
      "align_content": null,
      "align_items": null,
      "align_self": null,
      "border": null,
      "bottom": null,
      "display": null,
      "flex": null,
      "flex_flow": null,
      "grid_area": null,
      "grid_auto_columns": null,
      "grid_auto_flow": null,
      "grid_auto_rows": null,
      "grid_column": null,
      "grid_gap": null,
      "grid_row": null,
      "grid_template_areas": null,
      "grid_template_columns": null,
      "grid_template_rows": null,
      "height": null,
      "justify_content": null,
      "justify_items": null,
      "left": null,
      "margin": null,
      "max_height": null,
      "max_width": null,
      "min_height": null,
      "min_width": null,
      "object_fit": null,
      "object_position": null,
      "order": null,
      "overflow": null,
      "overflow_x": null,
      "overflow_y": null,
      "padding": null,
      "right": null,
      "top": null,
      "visibility": null,
      "width": null
     }
    },
    "3f537c1f5737431f96926d83b7ebd882": {
     "model_module": "@jupyter-widgets/controls",
     "model_module_version": "1.5.0",
     "model_name": "FloatProgressModel",
     "state": {
      "_dom_classes": [],
      "_model_module": "@jupyter-widgets/controls",
      "_model_module_version": "1.5.0",
      "_model_name": "FloatProgressModel",
      "_view_count": null,
      "_view_module": "@jupyter-widgets/controls",
      "_view_module_version": "1.5.0",
      "_view_name": "ProgressView",
      "bar_style": "success",
      "description": "",
      "description_tooltip": null,
      "layout": "IPY_MODEL_6d38b56c19d24d449ef4d57101b5bd40",
      "max": 9763701888,
      "min": 0,
      "orientation": "horizontal",
      "style": "IPY_MODEL_0f2c0def2282474d8745562d83fe4b9a",
      "value": 9763701888
     }
    },
    "6d38b56c19d24d449ef4d57101b5bd40": {
     "model_module": "@jupyter-widgets/base",
     "model_module_version": "1.2.0",
     "model_name": "LayoutModel",
     "state": {
      "_model_module": "@jupyter-widgets/base",
      "_model_module_version": "1.2.0",
      "_model_name": "LayoutModel",
      "_view_count": null,
      "_view_module": "@jupyter-widgets/base",
      "_view_module_version": "1.2.0",
      "_view_name": "LayoutView",
      "align_content": null,
      "align_items": null,
      "align_self": null,
      "border": null,
      "bottom": null,
      "display": null,
      "flex": null,
      "flex_flow": null,
      "grid_area": null,
      "grid_auto_columns": null,
      "grid_auto_flow": null,
      "grid_auto_rows": null,
      "grid_column": null,
      "grid_gap": null,
      "grid_row": null,
      "grid_template_areas": null,
      "grid_template_columns": null,
      "grid_template_rows": null,
      "height": null,
      "justify_content": null,
      "justify_items": null,
      "left": null,
      "margin": null,
      "max_height": null,
      "max_width": null,
      "min_height": null,
      "min_width": null,
      "object_fit": null,
      "object_position": null,
      "order": null,
      "overflow": null,
      "overflow_x": null,
      "overflow_y": null,
      "padding": null,
      "right": null,
      "top": null,
      "visibility": null,
      "width": null
     }
    },
    "8331efb496434bf6a614223410a1fc9f": {
     "model_module": "@jupyter-widgets/controls",
     "model_module_version": "1.5.0",
     "model_name": "DescriptionStyleModel",
     "state": {
      "_model_module": "@jupyter-widgets/controls",
      "_model_module_version": "1.5.0",
      "_model_name": "DescriptionStyleModel",
      "_view_count": null,
      "_view_module": "@jupyter-widgets/base",
      "_view_module_version": "1.2.0",
      "_view_name": "StyleView",
      "description_width": ""
     }
    },
    "ad0c5d6cda7243d5aa2ae6faa0123015": {
     "model_module": "@jupyter-widgets/base",
     "model_module_version": "1.2.0",
     "model_name": "LayoutModel",
     "state": {
      "_model_module": "@jupyter-widgets/base",
      "_model_module_version": "1.2.0",
      "_model_name": "LayoutModel",
      "_view_count": null,
      "_view_module": "@jupyter-widgets/base",
      "_view_module_version": "1.2.0",
      "_view_name": "LayoutView",
      "align_content": null,
      "align_items": null,
      "align_self": null,
      "border": null,
      "bottom": null,
      "display": null,
      "flex": null,
      "flex_flow": null,
      "grid_area": null,
      "grid_auto_columns": null,
      "grid_auto_flow": null,
      "grid_auto_rows": null,
      "grid_column": null,
      "grid_gap": null,
      "grid_row": null,
      "grid_template_areas": null,
      "grid_template_columns": null,
      "grid_template_rows": null,
      "height": null,
      "justify_content": null,
      "justify_items": null,
      "left": null,
      "margin": null,
      "max_height": null,
      "max_width": null,
      "min_height": null,
      "min_width": null,
      "object_fit": null,
      "object_position": null,
      "order": null,
      "overflow": null,
      "overflow_x": null,
      "overflow_y": null,
      "padding": null,
      "right": null,
      "top": null,
      "visibility": null,
      "width": null
     }
    },
    "bd279d1ecc2d4020b5f6a4a04ab73bff": {
     "model_module": "@jupyter-widgets/controls",
     "model_module_version": "1.5.0",
     "model_name": "DescriptionStyleModel",
     "state": {
      "_model_module": "@jupyter-widgets/controls",
      "_model_module_version": "1.5.0",
      "_model_name": "DescriptionStyleModel",
      "_view_count": null,
      "_view_module": "@jupyter-widgets/base",
      "_view_module_version": "1.2.0",
      "_view_name": "StyleView",
      "description_width": ""
     }
    },
    "d3c9958a593f402ab10bf1e0856c3559": {
     "model_module": "@jupyter-widgets/controls",
     "model_module_version": "1.5.0",
     "model_name": "HTMLModel",
     "state": {
      "_dom_classes": [],
      "_model_module": "@jupyter-widgets/controls",
      "_model_module_version": "1.5.0",
      "_model_name": "HTMLModel",
      "_view_count": null,
      "_view_module": "@jupyter-widgets/controls",
      "_view_module_version": "1.5.0",
      "_view_name": "HTMLView",
      "description": "",
      "description_tooltip": null,
      "layout": "IPY_MODEL_3f24fca3b68f49c8b4f0b3159284d304",
      "placeholder": "​",
      "style": "IPY_MODEL_8331efb496434bf6a614223410a1fc9f",
      "value": " 9.76G/9.76G [01:38&lt;00:00, 48.0MB/s]"
     }
    },
    "df4bc458c8ce4ea3976bf89135d6ad88": {
     "model_module": "@jupyter-widgets/controls",
     "model_module_version": "1.5.0",
     "model_name": "HBoxModel",
     "state": {
      "_dom_classes": [],
      "_model_module": "@jupyter-widgets/controls",
      "_model_module_version": "1.5.0",
      "_model_name": "HBoxModel",
      "_view_count": null,
      "_view_module": "@jupyter-widgets/controls",
      "_view_module_version": "1.5.0",
      "_view_name": "HBoxView",
      "box_style": "",
      "children": [
       "IPY_MODEL_22040c7f438e403b9c8c4bcf803cda7d",
       "IPY_MODEL_3f537c1f5737431f96926d83b7ebd882",
       "IPY_MODEL_d3c9958a593f402ab10bf1e0856c3559"
      ],
      "layout": "IPY_MODEL_ad0c5d6cda7243d5aa2ae6faa0123015"
     }
    }
   }
  }
 },
 "nbformat": 4,
 "nbformat_minor": 1
}
